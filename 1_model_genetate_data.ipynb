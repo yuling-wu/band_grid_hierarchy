{
 "cells": [
  {
   "cell_type": "code",
   "execution_count": 1,
   "metadata": {},
   "outputs": [],
   "source": [
    "import numpy as np\n",
    "import torch\n",
    "\n",
    "from tqdm import tqdm\n",
    "from matplotlib import pyplot as plt\n",
    "\n",
    "import seaborn as sns\n",
    "\n",
    "%load_ext autoreload\n",
    "%autoreload 2"
   ]
  },
  {
   "cell_type": "code",
   "execution_count": 2,
   "metadata": {},
   "outputs": [],
   "source": [
    "# If GPUs available, select which to train on\n",
    "import os\n",
    "os.environ[\"CUDA_DEVICE_ORDER\"]=\"PCI_BUS_ID\"\n",
    "os.environ[\"CUDA_VISIBLE_DEVICES\"]=\"0\""
   ]
  },
  {
   "cell_type": "code",
   "execution_count": 3,
   "metadata": {},
   "outputs": [],
   "source": [
    "from utils import generate_run_ID, load_trained_weights\n",
    "from place_cells import PlaceCells\n",
    "from trajectory_generator import TrajectoryGenerator\n",
    "from model import RNN\n",
    "from trainer import Trainer\n",
    "from visualize import compute_ratemaps\n",
    "from scores import GridScorer, BandScorer"
   ]
  },
  {
   "cell_type": "code",
   "execution_count": 4,
   "metadata": {},
   "outputs": [],
   "source": [
    "# Training options and hyperparameters\n",
    "class Options:\n",
    "    pass\n",
    "options = Options()\n",
    "\n",
    "options.save_dir = './models'\n",
    "options.n_steps = 1000      # number of training steps\n",
    "options.batch_size = 200      # number of trajectories per batch\n",
    "options.sequence_length = 20  # number of steps in trajectory\n",
    "options.learning_rate = 1e-4  # gradient descent learning rate\n",
    "options.Np = 512              # number of place cells\n",
    "options.Ng = 4096           # number of grid cells\n",
    "options.place_cell_rf = 0.12  # width of place cell center tuning curve (m)\n",
    "options.surround_scale = 2    # if DoG, ratio of sigma2^2 to sigma1^2\n",
    "options.RNN_type = 'RNN'      # RNN, RNN_2RNN or RNN_reconstruction\n",
    "options.activation = 'relu'   # recurrent nonlinearity\n",
    "options.weight_decay = 1e-4   # strength of weight decay on recurrent weights\n",
    "options.DoG = True            # use difference of gaussians tuning curves \n",
    "options.periodic = False      # trajectories with periodic boundary conditions\n",
    "options.box_width = 2.2       # width of training environment (m)\n",
    "options.box_height = 2.2      # height of training environment (m)\n",
    "options.seed = None           # random seed\n",
    "\n",
    "options.run_ID = generate_run_ID(options)\n",
    "options.device = torch.device('cpu')"
   ]
  },
  {
   "cell_type": "code",
   "execution_count": 5,
   "metadata": {},
   "outputs": [
    {
     "name": "stdout",
     "output_type": "stream",
     "text": [
      "Initializing new model from scratch.\n",
      "Saving to: ./models/steps_20_batch_200_RNN_4096_relu_rf_012_DoG_True_periodic_False_lr_00001_weight_decay_00001\n"
     ]
    }
   ],
   "source": [
    "# If you've trained with these params before, will restore trained model\n",
    "place_cells = PlaceCells(options)\n",
    "model = RNN(options, place_cells)\n",
    "trajectory_generator = TrajectoryGenerator(options, place_cells)\n",
    "trainer = Trainer(options, model, trajectory_generator)"
   ]
  },
  {
   "cell_type": "code",
   "execution_count": 6,
   "metadata": {},
   "outputs": [
    {
     "name": "stdout",
     "output_type": "stream",
     "text": [
      "Initialized trained weights.\n",
      "Epoch: 0/1. Step 0/1. Loss: 6.37. Err: 92.58cm\n",
      "Loaded trained weights.\n",
      "Epoch: 0/1. Step 0/1. Loss: 6.16. Err: 4.66cm\n"
     ]
    }
   ],
   "source": [
    "# Load example weights stored on github\n",
    "weight_dir = options.save_dir + '/example_trained_weights.npy'\n",
    "load_trained_weights(model, trainer, weight_dir)"
   ]
  },
  {
   "cell_type": "code",
   "execution_count": 7,
   "metadata": {},
   "outputs": [],
   "source": [
    "save_dir = options.save_dir + '/' + options.run_ID + '/data/'\n",
    "os.makedirs(save_dir, exist_ok=True)\n",
    "os.chdir(save_dir)"
   ]
  },
  {
   "cell_type": "markdown",
   "metadata": {},
   "source": [
    "# Activations"
   ]
  },
  {
   "cell_type": "code",
   "execution_count": null,
   "metadata": {},
   "outputs": [],
   "source": [
    "# Compute a set of high-res maps\n",
    "res = 50\n",
    "n_avg = 100\n",
    "Ng = options.Ng\n",
    "idxs = np.arange(Ng)\n",
    "\n",
    "activations, rate_map, g, pos, activations_theta = compute_ratemaps(model,\n",
    "                                                 trajectory_generator,\n",
    "                                                 options,\n",
    "                                                 res=res,\n",
    "                                                 n_avg=n_avg,\n",
    "                                                 Ng=Ng, idxs=idxs)\n",
    "\n",
    "# Compute a set of lo-res maps to use for evalutaing grid score\n",
    "lo_res = 20 # low resolution\n",
    "_, rate_map_lores, _, _, _ = compute_ratemaps(model,\n",
    "                                         trajectory_generator,\n",
    "                                         options,\n",
    "                                         res=lo_res,\n",
    "                                         n_avg=n_avg,\n",
    "                                         Ng=Ng, idxs=idxs)"
   ]
  },
  {
   "cell_type": "code",
   "execution_count": null,
   "metadata": {},
   "outputs": [],
   "source": [
    "# Save data\n",
    "np.save('rate_map.npy', rate_map)\n",
    "np.save('activations.npy', activations)\n",
    "np.save('activations_theta.npy', activations_theta)\n",
    "np.save('rate_map_lores.npy', rate_map_lores)"
   ]
  },
  {
   "cell_type": "markdown",
   "metadata": {},
   "source": [
    "# Band Cell"
   ]
  },
  {
   "cell_type": "code",
   "execution_count": 8,
   "metadata": {},
   "outputs": [],
   "source": [
    "res = 50\n",
    "band_scorer = BandScorer(res, options.box_width, options.box_height)"
   ]
  },
  {
   "cell_type": "markdown",
   "metadata": {},
   "source": [
    "## Band score, spacing, orientation"
   ]
  },
  {
   "cell_type": "code",
   "execution_count": null,
   "metadata": {},
   "outputs": [
    {
     "name": "stderr",
     "output_type": "stream",
     "text": [
      "  0%|          | 0/4096 [00:00<?, ?it/s]"
     ]
    },
    {
     "name": "stderr",
     "output_type": "stream",
     "text": [
      "100%|██████████| 4096/4096 [00:46<00:00, 88.40it/s] \n"
     ]
    }
   ],
   "source": [
    "rates = np.load('rate_map.npy')\n",
    "\n",
    "Ng = rates.shape[0]\n",
    "score = np.zeros(Ng,)\n",
    "k = np.zeros(Ng,)\n",
    "theta = np.zeros(Ng)\n",
    "ratemap = np.zeros([Ng, res, res])\n",
    "\n",
    "for i in tqdm(range(Ng)):\n",
    "    rate = (rates[i] - np.mean(rates[i])).reshape(res, res)\n",
    "    score[i], _, _, _, k[i], _, _ = band_scorer.comput_band_score(rate)\n",
    "    theta[i] = band_scorer.comput_orientation(rate)\n",
    "\n",
    "L = 2*np.pi/k  # spacing\n",
    "np.save('band_score.npy', score)\n",
    "np.save('L.npy', L)  \n",
    "np.save('orientation.npy', theta)"
   ]
  },
  {
   "cell_type": "markdown",
   "metadata": {},
   "source": [
    "## phase"
   ]
  },
  {
   "cell_type": "code",
   "execution_count": null,
   "metadata": {},
   "outputs": [],
   "source": [
    "# Identify high band score cells\n",
    "score_thres = 5.8\n",
    "high_band_idxs = np.where(score > score_thres)[0]"
   ]
  },
  {
   "cell_type": "code",
   "execution_count": null,
   "metadata": {},
   "outputs": [],
   "source": [
    "# compute phase\n",
    "phase = np.zeros(Ng)  # Use plural type\n",
    "\n",
    "# \"loc\" here is different from what we use in \"band score\", it's the real physical location\n",
    "X, Y = np.meshgrid(np.linspace(-options.box_width/2, options.box_width/2, res), np.linspace(-options.box_height/2, options.box_height/2, res))\n",
    "x_flat, y_flat = X.flatten(), Y.flatten()\n",
    "loc = np.stack([x_flat, y_flat])\n",
    "\n",
    "N_band = high_band_idxs.shape[0]\n",
    "for i in range(N_band):\n",
    "    idx = high_band_idxs[i]\n",
    "    j = 1j  # imaginary component\n",
    "    k_vec = np.array([k[idx]*np.cos(theta[idx]), k[idx]*np.sin(theta[idx])]).reshape(1, 2)\n",
    "    loc_phase = np.mod(np.dot(k_vec, loc), L[idx]) / L[idx]*np.pi*2 - np.pi # 1*Ng\n",
    "    phase[idx] = np.angle(np.sum(np.exp(loc_phase*1j)*rates[idx])/np.sum(rates[idx])) # 1\n",
    "\n",
    "np.save('phase.npy', phase)"
   ]
  },
  {
   "cell_type": "markdown",
   "metadata": {},
   "source": [
    "## direction"
   ]
  },
  {
   "cell_type": "code",
   "execution_count": 11,
   "metadata": {},
   "outputs": [],
   "source": [
    "activations_theta = np.load('activations_theta.npy')"
   ]
  },
  {
   "cell_type": "markdown",
   "metadata": {},
   "source": [
    "### prefered direction"
   ]
  },
  {
   "cell_type": "code",
   "execution_count": null,
   "metadata": {},
   "outputs": [],
   "source": [
    "prefer_dir = np.zeros(Ng) \n",
    "theta = np.linspace(-np.pi, np.pi, activations_theta.shape[1], endpoint=False)\n",
    "for i in range(Ng):\n",
    "    prefer_dir[i] = np.angle(np.sum(np.exp(theta*1j)*activations_theta[i,:]))\n",
    "\n",
    "np.save('prefer_dir.npy', prefer_dir)"
   ]
  },
  {
   "cell_type": "markdown",
   "metadata": {},
   "source": [
    "### direction score"
   ]
  },
  {
   "cell_type": "code",
   "execution_count": null,
   "metadata": {},
   "outputs": [],
   "source": [
    "dir_scores, A_params, mu_params, sigma_params = band_scorer.direction_score(activations_theta)\n",
    "\n",
    "np.save('direction_scores.npy', dir_scores)\n",
    "np.save('A_params.npy', A_params)\n",
    "np.save('sigma_params.npy', sigma_params)\n",
    "np.save('mu_params.npy', mu_params)"
   ]
  },
  {
   "cell_type": "markdown",
   "metadata": {},
   "source": [
    "# Grid cell\n"
   ]
  },
  {
   "cell_type": "markdown",
   "metadata": {},
   "source": [
    "## Grid score"
   ]
  },
  {
   "cell_type": "code",
   "execution_count": null,
   "metadata": {},
   "outputs": [],
   "source": [
    "rate_map_lores = np.load('rate_map_lores.npy')\n",
    "\n",
    "res = 20\n",
    "starts = [0.2] * 10\n",
    "ends = np.linspace(0.4, 1.0, num=10)\n",
    "box_width=options.box_width\n",
    "box_height=options.box_height\n",
    "coord_range=((-box_width/2, box_width/2), (-box_height/2, box_height/2))\n",
    "masks_parameters = zip(starts, ends.tolist())\n",
    "grid_scorer = GridScorer(res, coord_range, masks_parameters)"
   ]
  },
  {
   "cell_type": "code",
   "execution_count": null,
   "metadata": {},
   "outputs": [
    {
     "name": "stderr",
     "output_type": "stream",
     "text": [
      "  0%|          | 0/4096 [00:00<?, ?it/s]/home/tianhaochu/band_grid_hierarchy/scores.py:137: RuntimeWarning: invalid value encountered in divide\n",
      "  x_coef = np.divide(covar, np.multiply(std_seq1, std_seq2))\n",
      "100%|██████████| 4096/4096 [00:34<00:00, 119.61it/s]\n"
     ]
    }
   ],
   "source": [
    "score_60, score_90, max_60_mask, max_90_mask, sac, max_60_ind = zip(\n",
    "      *[grid_scorer.get_scores(rm.reshape(res, res)) for rm in tqdm(rate_map_lores)])\n",
    "\n",
    "np.save('grid_score.npy', score_60)"
   ]
  }
 ],
 "metadata": {
  "kernelspec": {
   "display_name": "PI_GC",
   "language": "python",
   "name": "python3"
  },
  "language_info": {
   "codemirror_mode": {
    "name": "ipython",
    "version": 3
   },
   "file_extension": ".py",
   "mimetype": "text/x-python",
   "name": "python",
   "nbconvert_exporter": "python",
   "pygments_lexer": "ipython3",
   "version": "3.9.23"
  }
 },
 "nbformat": 4,
 "nbformat_minor": 2
}
